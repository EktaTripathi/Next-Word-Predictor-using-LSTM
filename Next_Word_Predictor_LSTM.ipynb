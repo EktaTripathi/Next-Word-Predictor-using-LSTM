{
  "nbformat": 4,
  "nbformat_minor": 0,
  "metadata": {
    "colab": {
      "provenance": []
    },
    "kernelspec": {
      "name": "python3",
      "display_name": "Python 3"
    },
    "language_info": {
      "name": "python"
    }
  },
  "cells": [
    {
      "cell_type": "markdown",
      "source": [
        "## Input words"
      ],
      "metadata": {
        "id": "g4DaAPQiwhBN"
      }
    },
    {
      "cell_type": "code",
      "source": [
        "faqs = \"\"\"The story begins with Barbie and her best friend Teresa trying to play a song on their guitars when Barbie's sister, Stacie, storms in, angry at her friend Courtney and calls her a 'backstabber'.\n",
        "Barbie decides to tell Stacie the story of two friends named Liana and Alexa, who also get angry at each other.\n",
        "The two best friends live in a hut beside a beautiful garden and plant flowers to make a living.\n",
        "They also share a love of music.\n",
        "One day, they find two heart shaped stones which they make into necklaces to symbolize their friendship, not realizing that they are trinkets from the mythical Diamond Castle.\n",
        "The next day, an old woman gives them a mirror after they share the last of their food with her.\n",
        "The mirror is the hiding place of Melody, the apprentice muse from the Diamond Castle.\n",
        "Melody is on the run from Lydia, one of former three muses who lived in the Diamond Castle.\n",
        "Lydia became evil and turned the other two muses to stone, but not before they hid the Castle and left the key with Melody.\n",
        "If Lydia finds the Diamond Castle, all music will end, and with it eventually the world. Liana and Alexa coax a song out of Melody by singing, and Lydia's minion, a dragon known as Slyder, locates Melody by her voice.\n",
        "With their home destroyed by Slyder, Alexa and Liana go with Melody to find the Diamond Castle and keep it safe from Lydia.\n",
        "They find two small puppies and at an inn meet twin musicians named lan and Jeremy, who hear the girls sing and instantly fall for them, but the girls leave them behind at the inn.\n",
        "Lydia confronts them, and tries to cast a spell on them with her flute but the girls' necklaces protect them.\n",
        "Lydia set Slyder on them, but Lan and Jeremy arrive and they all escape.\n",
        "The girls, now with the twins, comes across a dead end but soon meet a dislikeable troll who captures the boys and vows to eat them and not let the group cross his bridge unless the girls answer his riddles.\n",
        "They do, which frees the boys and reveals a rainbow bridge that carries the girls off, leaving the boys behind.\n",
        "Liana and Alexa soon run out of food.\n",
        "They find a mansion and go to ask for shelter, but the servants there, bewitched by Lydia, tell them that they are the long-awaited mistresses of the house.\n",
        "Alexa wants to stay, but Liana wants to honor the promise they made to Melody, resulting to an argument which turns into a fight.\n",
        "Liana leaves the house with Melody and Alexa stays, ripping off her magic necklace that symbolizes her friendship with Liana in anger.\n",
        "Slyder arrives and takes Alexa to Lydia.\n",
        "After determining that Melody is not with Alexa, Lydia uses her flute's power against Alexa to find Liana, and because Alexa is not wearing her magical necklace, she falls under Lydia's spell.\n",
        "Alexa tells Lydia that Liana and Melody are heading to the seven stones, where the Diamond Castle is hidden.\n",
        "After Liana is kidnapped, Lydia uses Alexa to scare Melody into revealing the whereabouts of the Diamond Castle.\n",
        "Although Lydia promises to release Liana and Alexa once the Diamond Castle is hers, Slyder knocks the two girls over a cliff, and they narrowly escape falling into acid by hanging onto a ledge.\n",
        "Liana realizes that the necklaces protected them from Lydia's spell and uses Alexa's necklace to undo the spell and they climb up the cliff together.\n",
        "Alexa apologizes to Liana from their fight and so does Liana.\n",
        "One of the puppies leads the twins to the girls and together they all head to the hiding place of the Diamond Castle.\n",
        "\"\"\""
      ],
      "metadata": {
        "id": "7VzyaPdjP7yl"
      },
      "execution_count": null,
      "outputs": []
    },
    {
      "cell_type": "code",
      "source": [
        "import tensorflow as tf\n",
        "from tensorflow.keras.preprocessing.text import Tokenizer"
      ],
      "metadata": {
        "id": "EfK3aR3XQIL4"
      },
      "execution_count": null,
      "outputs": []
    },
    {
      "cell_type": "code",
      "source": [
        "tokenizer = Tokenizer()"
      ],
      "metadata": {
        "id": "jf7pd5iuQaPC"
      },
      "execution_count": null,
      "outputs": []
    },
    {
      "cell_type": "code",
      "source": [
        "tokenizer.fit_on_texts([faqs])"
      ],
      "metadata": {
        "id": "Ts5l8_GdQe3s"
      },
      "execution_count": null,
      "outputs": []
    },
    {
      "cell_type": "code",
      "source": [
        "len(tokenizer.word_index)"
      ],
      "metadata": {
        "colab": {
          "base_uri": "https://localhost:8080/"
        },
        "id": "MyRnahOTQsLS",
        "outputId": "6194265f-1af8-4f7a-b37d-3d0314e8149f"
      },
      "execution_count": null,
      "outputs": [
        {
          "output_type": "execute_result",
          "data": {
            "text/plain": [
              "258"
            ]
          },
          "metadata": {},
          "execution_count": 5
        }
      ]
    },
    {
      "cell_type": "code",
      "source": [
        "input_sequences = []\n",
        "for sentence in faqs.split('\\n'):\n",
        "  tokenized_sentence = tokenizer.texts_to_sequences([sentence])[0]\n",
        "\n",
        "  for i in range(1,len(tokenized_sentence)):\n",
        "    input_sequences.append(tokenized_sentence[:i+1])"
      ],
      "metadata": {
        "id": "9erAQlYAQuwt"
      },
      "execution_count": null,
      "outputs": []
    },
    {
      "cell_type": "code",
      "source": [
        "max_len = max([len(x) for x in input_sequences])"
      ],
      "metadata": {
        "id": "0tVPH7-yRTDQ"
      },
      "execution_count": null,
      "outputs": []
    },
    {
      "cell_type": "code",
      "source": [
        "from tensorflow.keras.preprocessing.sequence import pad_sequences\n",
        "padded_input_sequences = pad_sequences(input_sequences, maxlen = max_len, padding = 'pre')"
      ],
      "metadata": {
        "id": "dKsXrTv1S_AU"
      },
      "execution_count": null,
      "outputs": []
    },
    {
      "cell_type": "code",
      "source": [
        "padded_input_sequences"
      ],
      "metadata": {
        "colab": {
          "base_uri": "https://localhost:8080/"
        },
        "id": "zXVJALAST6bG",
        "outputId": "1c1642b0-d6a8-4885-9e22-80fedae83e2b"
      },
      "execution_count": null,
      "outputs": [
        {
          "output_type": "execute_result",
          "data": {
            "text/plain": [
              "array([[ 0,  0,  0, ...,  0,  1, 44],\n",
              "       [ 0,  0,  0, ...,  1, 44, 90],\n",
              "       [ 0,  0,  0, ..., 44, 90,  9],\n",
              "       ...,\n",
              "       [ 0,  0,  0, ..., 65, 10,  1],\n",
              "       [ 0,  0,  0, ..., 10,  1, 15],\n",
              "       [ 0,  0,  0, ...,  1, 15, 13]], dtype=int32)"
            ]
          },
          "metadata": {},
          "execution_count": 9
        }
      ]
    },
    {
      "cell_type": "code",
      "source": [
        "X = padded_input_sequences[:,:-1]"
      ],
      "metadata": {
        "id": "FCst2Qe2UFBe"
      },
      "execution_count": null,
      "outputs": []
    },
    {
      "cell_type": "code",
      "source": [
        "y = padded_input_sequences[:,-1]"
      ],
      "metadata": {
        "id": "7SEwH0a2UQs6"
      },
      "execution_count": null,
      "outputs": []
    },
    {
      "cell_type": "code",
      "source": [
        "X.shape"
      ],
      "metadata": {
        "colab": {
          "base_uri": "https://localhost:8080/"
        },
        "id": "bRq4UjEAUgSM",
        "outputId": "fc60629a-b90a-4387-8650-b56b6740fbcd"
      },
      "execution_count": null,
      "outputs": [
        {
          "output_type": "execute_result",
          "data": {
            "text/plain": [
              "(602, 39)"
            ]
          },
          "metadata": {},
          "execution_count": 12
        }
      ]
    },
    {
      "cell_type": "code",
      "source": [
        "y.shape"
      ],
      "metadata": {
        "colab": {
          "base_uri": "https://localhost:8080/"
        },
        "id": "oDhtF4rwUpoq",
        "outputId": "4f3e15a9-3e3f-4e44-c9a9-5cade16e2525"
      },
      "execution_count": null,
      "outputs": [
        {
          "output_type": "execute_result",
          "data": {
            "text/plain": [
              "(602,)"
            ]
          },
          "metadata": {},
          "execution_count": 13
        }
      ]
    },
    {
      "cell_type": "code",
      "source": [
        "from tensorflow.keras.utils import to_categorical\n",
        "y = to_categorical(y,num_classes=259)"
      ],
      "metadata": {
        "id": "upHS2BzzUq8j"
      },
      "execution_count": null,
      "outputs": []
    },
    {
      "cell_type": "code",
      "source": [
        "y.shape"
      ],
      "metadata": {
        "colab": {
          "base_uri": "https://localhost:8080/"
        },
        "id": "aKcbZwGvV3zd",
        "outputId": "b1b4455b-da83-46dc-cb36-f6a76274920c"
      },
      "execution_count": null,
      "outputs": [
        {
          "output_type": "execute_result",
          "data": {
            "text/plain": [
              "(602, 259)"
            ]
          },
          "metadata": {},
          "execution_count": 15
        }
      ]
    },
    {
      "cell_type": "code",
      "source": [
        "y"
      ],
      "metadata": {
        "colab": {
          "base_uri": "https://localhost:8080/"
        },
        "id": "eKDJmiNQWAbk",
        "outputId": "a672e534-327d-4081-c4f8-a65f56ebd4f2"
      },
      "execution_count": null,
      "outputs": [
        {
          "output_type": "execute_result",
          "data": {
            "text/plain": [
              "array([[0., 0., 0., ..., 0., 0., 0.],\n",
              "       [0., 0., 0., ..., 0., 0., 0.],\n",
              "       [0., 0., 0., ..., 0., 0., 0.],\n",
              "       ...,\n",
              "       [0., 1., 0., ..., 0., 0., 0.],\n",
              "       [0., 0., 0., ..., 0., 0., 0.],\n",
              "       [0., 0., 0., ..., 0., 0., 0.]], dtype=float32)"
            ]
          },
          "metadata": {},
          "execution_count": 16
        }
      ]
    },
    {
      "cell_type": "code",
      "source": [
        "from tensorflow.keras.models import Sequential\n",
        "from tensorflow.keras.layers import Embedding, LSTM, Dense, Dropout\n",
        "import numpy as np"
      ],
      "metadata": {
        "id": "B2pLSkyDWCsJ"
      },
      "execution_count": null,
      "outputs": []
    },
    {
      "cell_type": "code",
      "source": [
        "model = Sequential()\n",
        "model.add(Embedding(259, 100, input_length=39))\n",
        "model.add(LSTM(150))\n",
        "model.add(Dense(259, activation='softmax'))"
      ],
      "metadata": {
        "id": "ycgUtUkiWSLW"
      },
      "execution_count": null,
      "outputs": []
    },
    {
      "cell_type": "code",
      "source": [
        "model.compile(loss='categorical_crossentropy', optimizer='adam', metrics=['accuracy'])"
      ],
      "metadata": {
        "id": "pyHEaJhJW7nd"
      },
      "execution_count": null,
      "outputs": []
    },
    {
      "cell_type": "code",
      "source": [
        "model.summary()"
      ],
      "metadata": {
        "colab": {
          "base_uri": "https://localhost:8080/"
        },
        "id": "PUPSgXudXI-d",
        "outputId": "acbe76ae-f715-420d-e5c2-133d7edb5f66"
      },
      "execution_count": null,
      "outputs": [
        {
          "output_type": "stream",
          "name": "stdout",
          "text": [
            "Model: \"sequential_8\"\n",
            "_________________________________________________________________\n",
            " Layer (type)                Output Shape              Param #   \n",
            "=================================================================\n",
            " embedding_8 (Embedding)     (None, 39, 100)           25900     \n",
            "                                                                 \n",
            " lstm_12 (LSTM)              (None, 150)               150600    \n",
            "                                                                 \n",
            " dense_6 (Dense)             (None, 259)               39109     \n",
            "                                                                 \n",
            "=================================================================\n",
            "Total params: 215609 (842.22 KB)\n",
            "Trainable params: 215609 (842.22 KB)\n",
            "Non-trainable params: 0 (0.00 Byte)\n",
            "_________________________________________________________________\n"
          ]
        }
      ]
    },
    {
      "cell_type": "code",
      "source": [
        "history = model.fit(X, y, epochs=10, validation_split=0.1)"
      ],
      "metadata": {
        "colab": {
          "base_uri": "https://localhost:8080/"
        },
        "id": "vB8XuH0-XKni",
        "outputId": "441d57da-bee8-471f-ac69-304bd61dda6c"
      },
      "execution_count": null,
      "outputs": [
        {
          "output_type": "stream",
          "name": "stdout",
          "text": [
            "Epoch 1/10\n",
            "17/17 [==============================] - 1s 78ms/step - loss: 0.0497 - accuracy: 0.9741 - val_loss: 9.4565 - val_accuracy: 0.0984\n",
            "Epoch 2/10\n",
            "17/17 [==============================] - 1s 76ms/step - loss: 0.0487 - accuracy: 0.9723 - val_loss: 9.4803 - val_accuracy: 0.0984\n",
            "Epoch 3/10\n",
            "17/17 [==============================] - 1s 76ms/step - loss: 0.0487 - accuracy: 0.9704 - val_loss: 9.4863 - val_accuracy: 0.0984\n",
            "Epoch 4/10\n",
            "17/17 [==============================] - 1s 74ms/step - loss: 0.0491 - accuracy: 0.9704 - val_loss: 9.4968 - val_accuracy: 0.0984\n",
            "Epoch 5/10\n",
            "17/17 [==============================] - 1s 81ms/step - loss: 0.0483 - accuracy: 0.9704 - val_loss: 9.4845 - val_accuracy: 0.0984\n",
            "Epoch 6/10\n",
            "17/17 [==============================] - 2s 136ms/step - loss: 0.0486 - accuracy: 0.9704 - val_loss: 9.4972 - val_accuracy: 0.0820\n",
            "Epoch 7/10\n",
            "17/17 [==============================] - 1s 77ms/step - loss: 0.0486 - accuracy: 0.9704 - val_loss: 9.4914 - val_accuracy: 0.0984\n",
            "Epoch 8/10\n",
            "17/17 [==============================] - 1s 76ms/step - loss: 0.0480 - accuracy: 0.9723 - val_loss: 9.5316 - val_accuracy: 0.0984\n",
            "Epoch 9/10\n",
            "17/17 [==============================] - 1s 75ms/step - loss: 0.0483 - accuracy: 0.9741 - val_loss: 9.5175 - val_accuracy: 0.0984\n",
            "Epoch 10/10\n",
            "17/17 [==============================] - 1s 74ms/step - loss: 0.0477 - accuracy: 0.9723 - val_loss: 9.5173 - val_accuracy: 0.0984\n"
          ]
        }
      ]
    },
    {
      "cell_type": "markdown",
      "source": [
        "## Testing next word"
      ],
      "metadata": {
        "id": "kPZFhwyowdu-"
      }
    },
    {
      "cell_type": "code",
      "source": [
        "import time\n",
        "text = \"The\"\n",
        "\n",
        "for i in range(10):\n",
        "\n",
        "  #Tokenize\n",
        "  token_text = tokenizer.texts_to_sequences([text])[0]\n",
        "\n",
        "  #Padding\n",
        "  padded_token_text = pad_sequences([token_text], maxlen=39, padding='pre')\n",
        "\n",
        "  #predict\n",
        "  pos = np.argmax(model.predict(padded_token_text))\n",
        "\n",
        "  for word,index in tokenizer.word_index.items():\n",
        "    if index == pos:\n",
        "      text = text + \" \" + word\n",
        "      print(text)\n",
        "      time.sleep(1)"
      ],
      "metadata": {
        "colab": {
          "base_uri": "https://localhost:8080/"
        },
        "id": "lWAuNKdnXrDB",
        "outputId": "8a27a77c-7689-4003-b4bf-6fee38991ab1"
      },
      "execution_count": null,
      "outputs": [
        {
          "output_type": "stream",
          "name": "stdout",
          "text": [
            "1/1 [==============================] - 0s 28ms/step\n",
            "The two\n",
            "1/1 [==============================] - 0s 27ms/step\n",
            "The two best\n",
            "1/1 [==============================] - 0s 29ms/step\n",
            "The two best friends\n",
            "1/1 [==============================] - 0s 26ms/step\n",
            "The two best friends live\n",
            "1/1 [==============================] - 0s 27ms/step\n",
            "The two best friends live in\n",
            "1/1 [==============================] - 0s 26ms/step\n",
            "The two best friends live in a\n",
            "1/1 [==============================] - 0s 34ms/step\n",
            "The two best friends live in a hut\n",
            "1/1 [==============================] - 0s 41ms/step\n",
            "The two best friends live in a hut beside\n",
            "1/1 [==============================] - 0s 28ms/step\n",
            "The two best friends live in a hut beside a\n",
            "1/1 [==============================] - 0s 27ms/step\n",
            "The two best friends live in a hut beside a beautiful\n"
          ]
        }
      ]
    },
    {
      "cell_type": "code",
      "source": [
        "import time\n",
        "text = \"house\"\n",
        "\n",
        "for i in range(10):\n",
        "\n",
        "  #Tokenize\n",
        "  token_text = tokenizer.texts_to_sequences([text])[0]\n",
        "\n",
        "  #Padding\n",
        "  padded_token_text = pad_sequences([token_text], maxlen=39, padding='pre')\n",
        "\n",
        "  #predict\n",
        "  pos = np.argmax(model.predict(padded_token_text))\n",
        "\n",
        "  for word,index in tokenizer.word_index.items():\n",
        "    if index == pos:\n",
        "      text = text + \" \" + word\n",
        "      print(text)\n",
        "      time.sleep(1)"
      ],
      "metadata": {
        "colab": {
          "base_uri": "https://localhost:8080/"
        },
        "id": "qxvjPjRBa7bJ",
        "outputId": "3f2d3f8d-c621-4c4c-dbf7-c7d2f67c062b"
      },
      "execution_count": null,
      "outputs": [
        {
          "output_type": "stream",
          "name": "stdout",
          "text": [
            "1/1 [==============================] - 0s 27ms/step\n",
            "house with\n",
            "1/1 [==============================] - 0s 26ms/step\n",
            "house with their\n",
            "1/1 [==============================] - 0s 26ms/step\n",
            "house with their home\n",
            "1/1 [==============================] - 0s 26ms/step\n",
            "house with their home destroyed\n",
            "1/1 [==============================] - 0s 28ms/step\n",
            "house with their home destroyed by\n",
            "1/1 [==============================] - 0s 27ms/step\n",
            "house with their home destroyed by slyder\n",
            "1/1 [==============================] - 0s 27ms/step\n",
            "house with their home destroyed by slyder alexa\n",
            "1/1 [==============================] - 0s 26ms/step\n",
            "house with their home destroyed by slyder alexa and\n",
            "1/1 [==============================] - 0s 44ms/step\n",
            "house with their home destroyed by slyder alexa and liana\n",
            "1/1 [==============================] - 0s 29ms/step\n",
            "house with their home destroyed by slyder alexa and liana go\n"
          ]
        }
      ]
    },
    {
      "cell_type": "code",
      "source": [],
      "metadata": {
        "id": "AblsYbkNjKeK"
      },
      "execution_count": null,
      "outputs": []
    }
  ]
}